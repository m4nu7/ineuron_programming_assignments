{
 "cells": [
  {
   "cell_type": "markdown",
   "id": "e6d86c43",
   "metadata": {},
   "source": [
    "# 1. Write a Python program to print \"Hello Python\"?"
   ]
  },
  {
   "cell_type": "code",
   "execution_count": 3,
   "id": "f7126ef7",
   "metadata": {},
   "outputs": [
    {
     "name": "stdout",
     "output_type": "stream",
     "text": [
      "\"Hello Python\"\n"
     ]
    }
   ],
   "source": [
    "print('\"Hello Python\"')"
   ]
  },
  {
   "cell_type": "markdown",
   "id": "f2a6c452",
   "metadata": {},
   "source": [
    "# 2. Write a Python program to do arithmetical operations addition and division.?"
   ]
  },
  {
   "cell_type": "code",
   "execution_count": 7,
   "id": "3699af33",
   "metadata": {},
   "outputs": [
    {
     "name": "stdout",
     "output_type": "stream",
     "text": [
      "Enter 2 numbers to do addition and division operations \n",
      "Enter the first number a : -1\n",
      "Enter the second number b : 2\n",
      "a + b =  1\n",
      "a / b =  -0.5\n"
     ]
    }
   ],
   "source": [
    "print(\"Enter 2 numbers to do addition and division operations \")\n",
    "a = int(input(\"Enter the first number a : \"))\n",
    "b = int(input(\"Enter the second number b : \"))\n",
    "\n",
    "print(\"a + b = \", a+b)\n",
    "\n",
    "if b == 0:\n",
    "    print(\"b is 0, a number cannot be divided by zero \")\n",
    "else :\n",
    "    print(\"a / b = \", a/b)"
   ]
  },
  {
   "cell_type": "markdown",
   "id": "808f93c7",
   "metadata": {},
   "source": [
    "# 3. Write a Python program to find the area of a triangle?"
   ]
  },
  {
   "cell_type": "code",
   "execution_count": 12,
   "id": "5f3f99b1",
   "metadata": {},
   "outputs": [
    {
     "name": "stdout",
     "output_type": "stream",
     "text": [
      "Enter base and height of the triangle \n",
      "Enter the base of a triangle in cms : 0\n",
      "Enter the height of a triangle in cms : 3\n",
      "invalid base or height \n",
      "Enter base and height of the triangle \n",
      "Enter the base of a triangle in cms : 2\n",
      "Enter the height of a triangle in cms : 3\n",
      "Area of the triangle is =  3.0 cm^2\n"
     ]
    }
   ],
   "source": [
    "\n",
    "area = 0\n",
    "\n",
    "while area == 0 :\n",
    "    \n",
    "    print(\"Enter base and height of the triangle \")\n",
    "    base = int(input(\"Enter the base of a triangle in cms : \"))\n",
    "    height = int(input(\"Enter the height of a triangle in cms : \"))\n",
    "\n",
    "    if base > 0 and height > 0:\n",
    "        area = 1/2 * base * height\n",
    "    else:\n",
    "        print(\"invalid base or height \")\n",
    "        continue\n",
    "\n",
    "\n",
    "print(\"Area of the triangle is = \", area, \"cm^2\")"
   ]
  },
  {
   "cell_type": "markdown",
   "id": "0f189a7b",
   "metadata": {},
   "source": [
    "# 4. Write a Python program to swap two variables?"
   ]
  },
  {
   "cell_type": "code",
   "execution_count": 15,
   "id": "fee013ab",
   "metadata": {},
   "outputs": [
    {
     "name": "stdout",
     "output_type": "stream",
     "text": [
      "Give 2 inputs to swap \n",
      "Enter the first input a : 1\n",
      "Enter the second input b : 19\n",
      "a and b are now swaped : a is 19 now, and b is 1 now\n"
     ]
    }
   ],
   "source": [
    "print(\"Give 2 inputs to swap \")\n",
    "a = input(\"Enter the first input a : \")\n",
    "b = input(\"Enter the second input b : \")\n",
    "\n",
    "temp = a\n",
    "a = b\n",
    "b = temp\n",
    "\n",
    "print(\"a and b are now swaped : a is {} now, and b is {} now\".format(a,b) )\n"
   ]
  },
  {
   "cell_type": "markdown",
   "id": "3a961cd0",
   "metadata": {},
   "source": [
    "# 5. Write a Python program to generate a random number?"
   ]
  },
  {
   "cell_type": "code",
   "execution_count": 21,
   "id": "52c042af",
   "metadata": {},
   "outputs": [
    {
     "name": "stdout",
     "output_type": "stream",
     "text": [
      "Random number is :  0.8086793261610251\n"
     ]
    }
   ],
   "source": [
    "import random\n",
    "\n",
    "print(\"Random number is : \", random.random())"
   ]
  },
  {
   "cell_type": "code",
   "execution_count": null,
   "id": "55fdc6ed",
   "metadata": {},
   "outputs": [],
   "source": []
  }
 ],
 "metadata": {
  "kernelspec": {
   "display_name": "Python 3 (ipykernel)",
   "language": "python",
   "name": "python3"
  },
  "language_info": {
   "codemirror_mode": {
    "name": "ipython",
    "version": 3
   },
   "file_extension": ".py",
   "mimetype": "text/x-python",
   "name": "python",
   "nbconvert_exporter": "python",
   "pygments_lexer": "ipython3",
   "version": "3.9.7"
  }
 },
 "nbformat": 4,
 "nbformat_minor": 5
}
