{
 "cells": [
  {
   "cell_type": "markdown",
   "id": "2f45c9f4",
   "metadata": {},
   "source": [
    "# Task 1"
   ]
  },
  {
   "cell_type": "markdown",
   "id": "9c0bb549",
   "metadata": {},
   "source": [
    "### Level 1"
   ]
  },
  {
   "cell_type": "code",
   "execution_count": 1,
   "id": "d6df877f",
   "metadata": {},
   "outputs": [],
   "source": [
    "# Create a class called data. variables are file name [], file type {} / (), date and size.\n",
    "\n",
    "# create a function file_open(). Takes the file name and creates the file if it does not exist and write something.\n",
    "\n",
    "# File_read(file_name) : ----> reads the file\n",
    "\n",
    "# File_append(file_name) : -----> append new data in the file and show"
   ]
  },
  {
   "cell_type": "markdown",
   "id": "6bea642c",
   "metadata": {},
   "source": [
    "### Level 2"
   ]
  },
  {
   "cell_type": "code",
   "execution_count": 2,
   "id": "bdcaff54",
   "metadata": {},
   "outputs": [],
   "source": [
    "# implement exception handling\n",
    "\n",
    "# implement logger ---> don't log directly, instead create a log function within the class that logs things like\n",
    "# file opening, file closing, file reading and file appending "
   ]
  },
  {
   "cell_type": "markdown",
   "id": "8f5159ec",
   "metadata": {},
   "source": [
    "## incorrect code"
   ]
  },
  {
   "cell_type": "code",
   "execution_count": 3,
   "id": "4375cd81",
   "metadata": {},
   "outputs": [],
   "source": [
    "# solution :\n",
    "\n",
    "import os\n",
    "import logging as lg\n",
    "# os.chdir(\"class and object\")\n",
    "lg.basicConfig(filename = \"data.log\", level = lg.INFO, format = \"%(name)s %(asctime)s %(levelname)s %(msg)s \" )\n",
    "        \n",
    "logger1 = lg.getLogger(\"BOOT\")\n",
    "        \n",
    "logger1.addHandler(\"data.log\")\n",
    "\n",
    "class data :\n",
    "    \n",
    "    \"\"\"\n",
    "    data class is used to record properties of a file\n",
    "    \n",
    "    Args :\n",
    "    \n",
    "    fileName : Provide the filename\n",
    "    fileType : Provide the type of the file\n",
    "    date : Provide current date\n",
    "    size : Provide the size of the file\n",
    "    \n",
    "    \"\"\"\n",
    "    \n",
    "    def __init__(self, fileName, fileType, date, size ) :\n",
    "        self.fileName = fileName\n",
    "        self.fileType = fileType\n",
    "        self.date = date\n",
    "        self.size = size\n",
    "    \n",
    "    def __str__(self) :\n",
    "        return \"This is an object for data class \"\n",
    "    \n",
    "    def file_open(self) :\n",
    "        \n",
    "        if type(self.fileName) != str:\n",
    "            \n",
    "            if type(self.fileName) == list or type(self.fileName) == tuple or type(self.fileName) == dict :\n",
    "            \n",
    "                for file in self.fileName :\n",
    "                    if os.path.exists(file) == False :\n",
    "                        f = open(file, 'w')\n",
    "                        self.log(file, \"Opening the file\")                                 # logging\n",
    "                        \n",
    "                        while True :\n",
    "                            entry = input(\"Want to write to a file? If no, leave blank : \")\n",
    "                            f.writelines(entry + \" \" + file)\n",
    "                            \n",
    "                            if not entry :\n",
    "                                break\n",
    "                        \n",
    "                        f.close()\n",
    "                        self.log(file, \"Closing the file\")                                 # logging\n",
    "                        \n",
    "                    else :\n",
    "                        f = open(file, 'a')\n",
    "                        self.log(file, \"Opening the file\")                                 # logging\n",
    "                        \n",
    "                        while True :\n",
    "                            entry = input(\"Want to write to a file? If no, leave blank : \")\n",
    "                            f.writelines(entry + \" \" + file)\n",
    "                            \n",
    "                            if not entry :\n",
    "                                break\n",
    "                        \n",
    "                        f.close()\n",
    "                        self.log(file, \"Closing the file\")                                 # logging\n",
    "                        \n",
    "            else :\n",
    "                print(\"File name is in incorrect format \")\n",
    "        \n",
    "        else :\n",
    "            if os.path.exists(self.fileName) == False :\n",
    "                f = open(self.fileName, 'w')\n",
    "                self.log(self.fileName, \"Opening the file\")                                 # logging\n",
    "                \n",
    "                while True :\n",
    "                    entry = input(\"Want to write to a file? If no, leave blank : \")\n",
    "                    f.writelines(entry + \" \" + self.fileName)\n",
    "\n",
    "                    if not entry :\n",
    "                        break\n",
    "\n",
    "                    f.close()\n",
    "                    self.log(self.fileName, \"Closing the file\")                                 # logging\n",
    "                    \n",
    "            else :\n",
    "                f = open(self.fileName, 'a')\n",
    "                self.log(self.fileName, \"Opening the file\")                                 # logging\n",
    "                \n",
    "                while True :\n",
    "                    entry = input(\"Want to write to a file? If no, leave blank : \")\n",
    "                    f.writelines(entry + \" \" + self.fileName)\n",
    "\n",
    "                    if not entry :\n",
    "                        break\n",
    "\n",
    "                f.close()\n",
    "                self.log(self.fileName, \"Closing the file\")                                 # logging\n",
    "    \n",
    "    def file_read(self) :\n",
    "        \n",
    "            if type(self.fileName) != str:\n",
    "            \n",
    "                if type(self.fileName) == list or type(self.fileName) == tuple or type(self.fileName) == dict :\n",
    "                    \n",
    "                    for file in self.fileName :\n",
    "                        try :\n",
    "                            f = open(file, 'r')\n",
    "                            self.log(file, \"Opening the file for reading\")                   #logging\n",
    "                            f.seek(0)\n",
    "                            print(f.read(), end = \"\\n\")\n",
    "                            f.close()\n",
    "                            self.log(file, \"Closing the file after reading\")                 #logging\n",
    "                            \n",
    "                        except Exception as e :\n",
    "                            print(\"ERROR !! ====> logged. Please check the logger file data.log \")\n",
    "                            self.log(file, \"ERROR !! \" + str(e), \"exception\")                             #logging\n",
    "                else :\n",
    "                    print(\"File name is in incorrect format \")\n",
    "                    self.log(file,\"File name is in incorrect format\" )                             #logging\n",
    "\n",
    "            else :\n",
    "                \n",
    "                try :\n",
    "                    f = open(self.fileName, 'r')\n",
    "                    self.log(self.fileName, \"Opening the file for reading\")                   #logging\n",
    "                    f.seek(0)\n",
    "                    print(f.read(), end = \"\\n\")\n",
    "                    f.close()\n",
    "                    self.log(self.fileName, \"Closing the file after reading\")                 #logging\n",
    "\n",
    "                except Exception as e :\n",
    "                    print(\"ERROR !! ====> logged. Please check the logger file data.log \")\n",
    "                    msg = str(e)\n",
    "                    self.log(self.fileName, msg, \"exception\")                             #logging\n",
    "    \n",
    "    def log(self, fname, msg, flag = \"\") :\n",
    "        \n",
    "        if flag == \"exception\" :\n",
    "            logger1.error(msg)\n",
    "        else :\n",
    "            logger1.info(msg + \" ===> \" + fname)\n",
    "        \n",
    "        logger1.shutdown()"
   ]
  },
  {
   "cell_type": "code",
   "execution_count": 4,
   "id": "bb53b353",
   "metadata": {},
   "outputs": [],
   "source": [
    "data1 = data(\"test1.txt\",\".txt\",2022, \"50kb\")"
   ]
  },
  {
   "cell_type": "code",
   "execution_count": 5,
   "id": "aaef36c8",
   "metadata": {},
   "outputs": [
    {
     "data": {
      "text/plain": [
       "'test1.txt'"
      ]
     },
     "execution_count": 5,
     "metadata": {},
     "output_type": "execute_result"
    }
   ],
   "source": [
    "data1.fileName"
   ]
  },
  {
   "cell_type": "code",
   "execution_count": 6,
   "id": "b7c6351b",
   "metadata": {},
   "outputs": [
    {
     "name": "stdout",
     "output_type": "stream",
     "text": [
      "ERROR !! ====> logged. Please check the logger file data.log \n"
     ]
    },
    {
     "ename": "AttributeError",
     "evalue": "'str' object has no attribute 'level'",
     "output_type": "error",
     "traceback": [
      "\u001b[1;31m---------------------------------------------------------------------------\u001b[0m",
      "\u001b[1;31mFileNotFoundError\u001b[0m                         Traceback (most recent call last)",
      "\u001b[1;32m~\\AppData\\Local\\Temp/ipykernel_10356/818163184.py\u001b[0m in \u001b[0;36mfile_read\u001b[1;34m(self)\u001b[0m\n\u001b[0;32m    126\u001b[0m                 \u001b[1;32mtry\u001b[0m \u001b[1;33m:\u001b[0m\u001b[1;33m\u001b[0m\u001b[1;33m\u001b[0m\u001b[0m\n\u001b[1;32m--> 127\u001b[1;33m                     \u001b[0mf\u001b[0m \u001b[1;33m=\u001b[0m \u001b[0mopen\u001b[0m\u001b[1;33m(\u001b[0m\u001b[0mself\u001b[0m\u001b[1;33m.\u001b[0m\u001b[0mfileName\u001b[0m\u001b[1;33m,\u001b[0m \u001b[1;34m'r'\u001b[0m\u001b[1;33m)\u001b[0m\u001b[1;33m\u001b[0m\u001b[1;33m\u001b[0m\u001b[0m\n\u001b[0m\u001b[0;32m    128\u001b[0m                     \u001b[0mself\u001b[0m\u001b[1;33m.\u001b[0m\u001b[0mlog\u001b[0m\u001b[1;33m(\u001b[0m\u001b[0mself\u001b[0m\u001b[1;33m.\u001b[0m\u001b[0mfileName\u001b[0m\u001b[1;33m,\u001b[0m \u001b[1;34m\"Opening the file for reading\"\u001b[0m\u001b[1;33m)\u001b[0m                   \u001b[1;31m#logging\u001b[0m\u001b[1;33m\u001b[0m\u001b[1;33m\u001b[0m\u001b[0m\n",
      "\u001b[1;31mFileNotFoundError\u001b[0m: [Errno 2] No such file or directory: 'test1.txt'",
      "\nDuring handling of the above exception, another exception occurred:\n",
      "\u001b[1;31mAttributeError\u001b[0m                            Traceback (most recent call last)",
      "\u001b[1;32m~\\AppData\\Local\\Temp/ipykernel_10356/102804314.py\u001b[0m in \u001b[0;36m<module>\u001b[1;34m\u001b[0m\n\u001b[1;32m----> 1\u001b[1;33m \u001b[0mdata1\u001b[0m\u001b[1;33m.\u001b[0m\u001b[0mfile_read\u001b[0m\u001b[1;33m(\u001b[0m\u001b[1;33m)\u001b[0m\u001b[1;33m\u001b[0m\u001b[1;33m\u001b[0m\u001b[0m\n\u001b[0m",
      "\u001b[1;32m~\\AppData\\Local\\Temp/ipykernel_10356/818163184.py\u001b[0m in \u001b[0;36mfile_read\u001b[1;34m(self)\u001b[0m\n\u001b[0;32m    135\u001b[0m                     \u001b[0mprint\u001b[0m\u001b[1;33m(\u001b[0m\u001b[1;34m\"ERROR !! ====> logged. Please check the logger file data.log \"\u001b[0m\u001b[1;33m)\u001b[0m\u001b[1;33m\u001b[0m\u001b[1;33m\u001b[0m\u001b[0m\n\u001b[0;32m    136\u001b[0m                     \u001b[0mmsg\u001b[0m \u001b[1;33m=\u001b[0m \u001b[0mstr\u001b[0m\u001b[1;33m(\u001b[0m\u001b[0me\u001b[0m\u001b[1;33m)\u001b[0m\u001b[1;33m\u001b[0m\u001b[1;33m\u001b[0m\u001b[0m\n\u001b[1;32m--> 137\u001b[1;33m                     \u001b[0mself\u001b[0m\u001b[1;33m.\u001b[0m\u001b[0mlog\u001b[0m\u001b[1;33m(\u001b[0m\u001b[0mself\u001b[0m\u001b[1;33m.\u001b[0m\u001b[0mfileName\u001b[0m\u001b[1;33m,\u001b[0m \u001b[0mmsg\u001b[0m\u001b[1;33m,\u001b[0m \u001b[1;34m\"exception\"\u001b[0m\u001b[1;33m)\u001b[0m                             \u001b[1;31m#logging\u001b[0m\u001b[1;33m\u001b[0m\u001b[1;33m\u001b[0m\u001b[0m\n\u001b[0m\u001b[0;32m    138\u001b[0m \u001b[1;33m\u001b[0m\u001b[0m\n\u001b[0;32m    139\u001b[0m     \u001b[1;32mdef\u001b[0m \u001b[0mlog\u001b[0m\u001b[1;33m(\u001b[0m\u001b[0mself\u001b[0m\u001b[1;33m,\u001b[0m \u001b[0mfname\u001b[0m\u001b[1;33m,\u001b[0m \u001b[0mmsg\u001b[0m\u001b[1;33m,\u001b[0m \u001b[0mflag\u001b[0m \u001b[1;33m=\u001b[0m \u001b[1;34m\"\"\u001b[0m\u001b[1;33m)\u001b[0m \u001b[1;33m:\u001b[0m\u001b[1;33m\u001b[0m\u001b[1;33m\u001b[0m\u001b[0m\n",
      "\u001b[1;32m~\\AppData\\Local\\Temp/ipykernel_10356/818163184.py\u001b[0m in \u001b[0;36mlog\u001b[1;34m(self, fname, msg, flag)\u001b[0m\n\u001b[0;32m    140\u001b[0m \u001b[1;33m\u001b[0m\u001b[0m\n\u001b[0;32m    141\u001b[0m         \u001b[1;32mif\u001b[0m \u001b[0mflag\u001b[0m \u001b[1;33m==\u001b[0m \u001b[1;34m\"exception\"\u001b[0m \u001b[1;33m:\u001b[0m\u001b[1;33m\u001b[0m\u001b[1;33m\u001b[0m\u001b[0m\n\u001b[1;32m--> 142\u001b[1;33m             \u001b[0mlogger1\u001b[0m\u001b[1;33m.\u001b[0m\u001b[0merror\u001b[0m\u001b[1;33m(\u001b[0m\u001b[0mmsg\u001b[0m\u001b[1;33m)\u001b[0m\u001b[1;33m\u001b[0m\u001b[1;33m\u001b[0m\u001b[0m\n\u001b[0m\u001b[0;32m    143\u001b[0m         \u001b[1;32melse\u001b[0m \u001b[1;33m:\u001b[0m\u001b[1;33m\u001b[0m\u001b[1;33m\u001b[0m\u001b[0m\n\u001b[0;32m    144\u001b[0m             \u001b[0mlogger1\u001b[0m\u001b[1;33m.\u001b[0m\u001b[0minfo\u001b[0m\u001b[1;33m(\u001b[0m\u001b[0mmsg\u001b[0m \u001b[1;33m+\u001b[0m \u001b[1;34m\" ===> \"\u001b[0m \u001b[1;33m+\u001b[0m \u001b[0mfname\u001b[0m\u001b[1;33m)\u001b[0m\u001b[1;33m\u001b[0m\u001b[1;33m\u001b[0m\u001b[0m\n",
      "\u001b[1;32m~\\anaconda3\\lib\\logging\\__init__.py\u001b[0m in \u001b[0;36merror\u001b[1;34m(self, msg, *args, **kwargs)\u001b[0m\n\u001b[0;32m   1473\u001b[0m         \"\"\"\n\u001b[0;32m   1474\u001b[0m         \u001b[1;32mif\u001b[0m \u001b[0mself\u001b[0m\u001b[1;33m.\u001b[0m\u001b[0misEnabledFor\u001b[0m\u001b[1;33m(\u001b[0m\u001b[0mERROR\u001b[0m\u001b[1;33m)\u001b[0m\u001b[1;33m:\u001b[0m\u001b[1;33m\u001b[0m\u001b[1;33m\u001b[0m\u001b[0m\n\u001b[1;32m-> 1475\u001b[1;33m             \u001b[0mself\u001b[0m\u001b[1;33m.\u001b[0m\u001b[0m_log\u001b[0m\u001b[1;33m(\u001b[0m\u001b[0mERROR\u001b[0m\u001b[1;33m,\u001b[0m \u001b[0mmsg\u001b[0m\u001b[1;33m,\u001b[0m \u001b[0margs\u001b[0m\u001b[1;33m,\u001b[0m \u001b[1;33m**\u001b[0m\u001b[0mkwargs\u001b[0m\u001b[1;33m)\u001b[0m\u001b[1;33m\u001b[0m\u001b[1;33m\u001b[0m\u001b[0m\n\u001b[0m\u001b[0;32m   1476\u001b[0m \u001b[1;33m\u001b[0m\u001b[0m\n\u001b[0;32m   1477\u001b[0m     \u001b[1;32mdef\u001b[0m \u001b[0mexception\u001b[0m\u001b[1;33m(\u001b[0m\u001b[0mself\u001b[0m\u001b[1;33m,\u001b[0m \u001b[0mmsg\u001b[0m\u001b[1;33m,\u001b[0m \u001b[1;33m*\u001b[0m\u001b[0margs\u001b[0m\u001b[1;33m,\u001b[0m \u001b[0mexc_info\u001b[0m\u001b[1;33m=\u001b[0m\u001b[1;32mTrue\u001b[0m\u001b[1;33m,\u001b[0m \u001b[1;33m**\u001b[0m\u001b[0mkwargs\u001b[0m\u001b[1;33m)\u001b[0m\u001b[1;33m:\u001b[0m\u001b[1;33m\u001b[0m\u001b[1;33m\u001b[0m\u001b[0m\n",
      "\u001b[1;32m~\\anaconda3\\lib\\logging\\__init__.py\u001b[0m in \u001b[0;36m_log\u001b[1;34m(self, level, msg, args, exc_info, extra, stack_info, stacklevel)\u001b[0m\n\u001b[0;32m   1587\u001b[0m         record = self.makeRecord(self.name, level, fn, lno, msg, args,\n\u001b[0;32m   1588\u001b[0m                                  exc_info, func, extra, sinfo)\n\u001b[1;32m-> 1589\u001b[1;33m         \u001b[0mself\u001b[0m\u001b[1;33m.\u001b[0m\u001b[0mhandle\u001b[0m\u001b[1;33m(\u001b[0m\u001b[0mrecord\u001b[0m\u001b[1;33m)\u001b[0m\u001b[1;33m\u001b[0m\u001b[1;33m\u001b[0m\u001b[0m\n\u001b[0m\u001b[0;32m   1590\u001b[0m \u001b[1;33m\u001b[0m\u001b[0m\n\u001b[0;32m   1591\u001b[0m     \u001b[1;32mdef\u001b[0m \u001b[0mhandle\u001b[0m\u001b[1;33m(\u001b[0m\u001b[0mself\u001b[0m\u001b[1;33m,\u001b[0m \u001b[0mrecord\u001b[0m\u001b[1;33m)\u001b[0m\u001b[1;33m:\u001b[0m\u001b[1;33m\u001b[0m\u001b[1;33m\u001b[0m\u001b[0m\n",
      "\u001b[1;32m~\\anaconda3\\lib\\logging\\__init__.py\u001b[0m in \u001b[0;36mhandle\u001b[1;34m(self, record)\u001b[0m\n\u001b[0;32m   1597\u001b[0m         \"\"\"\n\u001b[0;32m   1598\u001b[0m         \u001b[1;32mif\u001b[0m \u001b[1;33m(\u001b[0m\u001b[1;32mnot\u001b[0m \u001b[0mself\u001b[0m\u001b[1;33m.\u001b[0m\u001b[0mdisabled\u001b[0m\u001b[1;33m)\u001b[0m \u001b[1;32mand\u001b[0m \u001b[0mself\u001b[0m\u001b[1;33m.\u001b[0m\u001b[0mfilter\u001b[0m\u001b[1;33m(\u001b[0m\u001b[0mrecord\u001b[0m\u001b[1;33m)\u001b[0m\u001b[1;33m:\u001b[0m\u001b[1;33m\u001b[0m\u001b[1;33m\u001b[0m\u001b[0m\n\u001b[1;32m-> 1599\u001b[1;33m             \u001b[0mself\u001b[0m\u001b[1;33m.\u001b[0m\u001b[0mcallHandlers\u001b[0m\u001b[1;33m(\u001b[0m\u001b[0mrecord\u001b[0m\u001b[1;33m)\u001b[0m\u001b[1;33m\u001b[0m\u001b[1;33m\u001b[0m\u001b[0m\n\u001b[0m\u001b[0;32m   1600\u001b[0m \u001b[1;33m\u001b[0m\u001b[0m\n\u001b[0;32m   1601\u001b[0m     \u001b[1;32mdef\u001b[0m \u001b[0maddHandler\u001b[0m\u001b[1;33m(\u001b[0m\u001b[0mself\u001b[0m\u001b[1;33m,\u001b[0m \u001b[0mhdlr\u001b[0m\u001b[1;33m)\u001b[0m\u001b[1;33m:\u001b[0m\u001b[1;33m\u001b[0m\u001b[1;33m\u001b[0m\u001b[0m\n",
      "\u001b[1;32m~\\anaconda3\\lib\\logging\\__init__.py\u001b[0m in \u001b[0;36mcallHandlers\u001b[1;34m(self, record)\u001b[0m\n\u001b[0;32m   1658\u001b[0m             \u001b[1;32mfor\u001b[0m \u001b[0mhdlr\u001b[0m \u001b[1;32min\u001b[0m \u001b[0mc\u001b[0m\u001b[1;33m.\u001b[0m\u001b[0mhandlers\u001b[0m\u001b[1;33m:\u001b[0m\u001b[1;33m\u001b[0m\u001b[1;33m\u001b[0m\u001b[0m\n\u001b[0;32m   1659\u001b[0m                 \u001b[0mfound\u001b[0m \u001b[1;33m=\u001b[0m \u001b[0mfound\u001b[0m \u001b[1;33m+\u001b[0m \u001b[1;36m1\u001b[0m\u001b[1;33m\u001b[0m\u001b[1;33m\u001b[0m\u001b[0m\n\u001b[1;32m-> 1660\u001b[1;33m                 \u001b[1;32mif\u001b[0m \u001b[0mrecord\u001b[0m\u001b[1;33m.\u001b[0m\u001b[0mlevelno\u001b[0m \u001b[1;33m>=\u001b[0m \u001b[0mhdlr\u001b[0m\u001b[1;33m.\u001b[0m\u001b[0mlevel\u001b[0m\u001b[1;33m:\u001b[0m\u001b[1;33m\u001b[0m\u001b[1;33m\u001b[0m\u001b[0m\n\u001b[0m\u001b[0;32m   1661\u001b[0m                     \u001b[0mhdlr\u001b[0m\u001b[1;33m.\u001b[0m\u001b[0mhandle\u001b[0m\u001b[1;33m(\u001b[0m\u001b[0mrecord\u001b[0m\u001b[1;33m)\u001b[0m\u001b[1;33m\u001b[0m\u001b[1;33m\u001b[0m\u001b[0m\n\u001b[0;32m   1662\u001b[0m             \u001b[1;32mif\u001b[0m \u001b[1;32mnot\u001b[0m \u001b[0mc\u001b[0m\u001b[1;33m.\u001b[0m\u001b[0mpropagate\u001b[0m\u001b[1;33m:\u001b[0m\u001b[1;33m\u001b[0m\u001b[1;33m\u001b[0m\u001b[0m\n",
      "\u001b[1;31mAttributeError\u001b[0m: 'str' object has no attribute 'level'"
     ]
    }
   ],
   "source": [
    "data1.file_read()"
   ]
  },
  {
   "cell_type": "markdown",
   "id": "179dd3b8",
   "metadata": {},
   "source": [
    "### correct code :"
   ]
  },
  {
   "cell_type": "code",
   "execution_count": 1,
   "id": "00abee1c",
   "metadata": {},
   "outputs": [],
   "source": [
    "# solution :\n",
    "\n",
    "import os\n",
    "import logging as lg\n",
    "os.chdir(\"class and object\")\n",
    "# lg.basicConfig(filename = \"data.log\", level = lg.INFO, format = \"%(name)s %(asctime)s %(levelname)s %(msg)s \" )\n",
    "        \n",
    "logger1 = lg.getLogger(\"BOOT\")\n",
    "\n",
    "my_file_handler = lg.FileHandler(\"data.log\")\n",
    "myformat = lg.Formatter(\"%(name)s -- %(asctime)s -- %(levelname)s -- %(msg)s\")\n",
    "my_file_handler.setFormatter(myformat)\n",
    "my_file_handler.setLevel(lg.INFO)\n",
    "\n",
    "        \n",
    "logger1.addHandler(my_file_handler)\n",
    "\n",
    "class data :\n",
    "    \n",
    "    \"\"\"\n",
    "    data class is used to record properties of a file\n",
    "    \n",
    "    Args :\n",
    "    \n",
    "    fileName : Provide the filename\n",
    "    fileType : Provide the type of the file\n",
    "    date : Provide current date\n",
    "    size : Provide the size of the file\n",
    "    \n",
    "    \"\"\"\n",
    "    \n",
    "    def __init__(self, fileName, fileType, date, size ) :\n",
    "        self.fileName = fileName\n",
    "        self.fileType = fileType\n",
    "        self.date = date\n",
    "        self.size = size\n",
    "    \n",
    "    def __str__(self) :\n",
    "        return \"This is an object for data class \"\n",
    "    \n",
    "    def file_open(self) :\n",
    "        \n",
    "        if type(self.fileName) != str:\n",
    "            \n",
    "            if type(self.fileName) == list or type(self.fileName) == tuple or type(self.fileName) == dict :\n",
    "            \n",
    "                for file in self.fileName :\n",
    "                    if os.path.exists(file) == False :\n",
    "                        f = open(file, 'w')\n",
    "                        self.log(file, \"Opening the file for writing==>\" + str(file))                        # logging\n",
    "                        \n",
    "                        while True :\n",
    "                            entry = input(\"Want to write to a file? If no, leave blank : \")\n",
    "                            f.writelines(entry + \" \")\n",
    "                            \n",
    "                            if not entry :\n",
    "                                break\n",
    "                        \n",
    "                        f.close()\n",
    "                        self.log(file, \"Closing the file for writing==>\" + str(file))                          # logging\n",
    "                        \n",
    "                    else :\n",
    "                        f = open(file, 'a')\n",
    "                        self.log(file, \"Opening the file for writing==>\" + str(file))                          # logging\n",
    "                        \n",
    "                        while True :\n",
    "                            entry = input(\"Want to write to a file? If no, leave blank : \")\n",
    "                            f.writelines(entry + \" \")\n",
    "                            \n",
    "                            if not entry :\n",
    "                                break\n",
    "                        \n",
    "                        f.close()\n",
    "                        self.log(file, \"Closing the file for writing==>\" + str(file))                           # logging\n",
    "                        \n",
    "            else :\n",
    "                print(\"File name is in incorrect format check the format and re-enter \")\n",
    "                self.log(self.fileName, \"File name is in incorrect format check the format and re-enter \")\n",
    "        \n",
    "        else :\n",
    "            if os.path.exists(self.fileName) == False :\n",
    "                f = open(self.fileName, 'w')\n",
    "                self.log(self.fileName, \"Opening the file for writing==>\" + str(self.fileName))              # logging\n",
    "                \n",
    "                while True :\n",
    "                    entry = input(\"Want to write to a file? If no, leave blank : \")\n",
    "                    f.writelines(entry + \" \")\n",
    "\n",
    "                    if not entry :\n",
    "                        break\n",
    "\n",
    "                f.close()\n",
    "                self.log(self.fileName, \"Closing the file for writing==>\" + str(self.fileName))             # logging\n",
    "                    \n",
    "            else :\n",
    "                f = open(self.fileName, 'a')\n",
    "                self.log(self.fileName , \"Opening the file for writing==>\" + str(self.fileName))            # logging\n",
    "                    \n",
    "                while True :\n",
    "                    entry = input(\"Want to write to a file? If no, leave blank : \")\n",
    "                    f.writelines(entry + \" \")\n",
    "\n",
    "                    if not entry :\n",
    "                        break\n",
    "\n",
    "                f.close()\n",
    "                self.log(self.fileName, \"Closing the file for writing==>\" + str(self.fileName))              # logging\n",
    "    \n",
    "    def file_read(self) :\n",
    "        \n",
    "            if type(self.fileName) != str:\n",
    "            \n",
    "                if type(self.fileName) == list or type(self.fileName) == tuple or type(self.fileName) == dict :\n",
    "                    \n",
    "                    for file in self.fileName :\n",
    "                        try :\n",
    "                            f = open(file, 'r')\n",
    "                            self.log(file, \"Opening the file for reading ==>\" + str(file))                   #logging\n",
    "                            f.seek(0)\n",
    "                            print(f.read(), end = \"\\n\")\n",
    "                            f.close()\n",
    "                            self.log(file, \"Closing the file after reading ==>\" + str(file))                 #logging\n",
    "                            \n",
    "                        except Exception as e :\n",
    "                            print(\"ERROR !! ====> logged. Please check the logger file data.log \")\n",
    "                            self.log(file, \"ERROR !! \" + str(e), \"exception\")                             #logging\n",
    "                else :\n",
    "                    print(\"File name is in incorrect format \")\n",
    "                    self.log(self.fileName,\"File name is in incorrect format check the format \" )             #logging\n",
    "\n",
    "            else :\n",
    "                \n",
    "                try :\n",
    "                    f = open(self.fileName, 'r')\n",
    "                    self.log(self.fileName, \"Opening the file for reading ==>\" + str(self.fileName))              #logging\n",
    "                    f.seek(0)\n",
    "                    print(f.read(), end = \"\\n\")\n",
    "                    f.close()\n",
    "                    self.log(self.fileName, \"Closing the file after reading==>\" + str(self.fileName))         #logging\n",
    "\n",
    "                except Exception as e :\n",
    "                    print(\"ERROR !! ====> logged. Please check the logger file data.log \")\n",
    "                    self.log(self.fileName, \"ERROR !! \" + str(e), \"exception\")                             #logging\n",
    "    \n",
    "    def log(self,fname, msg, flag = \"\") :\n",
    "        \n",
    "        if flag == \"exception\" :\n",
    "            logger1.exception(msg)\n",
    "        else :\n",
    "            logger1.critical(msg)\n",
    "        \n",
    "        # lg.shutdown()"
   ]
  },
  {
   "cell_type": "code",
   "execution_count": 2,
   "id": "e26fb9a1",
   "metadata": {},
   "outputs": [
    {
     "data": {
      "text/plain": [
       "'D:\\\\ineuron\\\\Class Notebooks\\\\class and object'"
      ]
     },
     "execution_count": 2,
     "metadata": {},
     "output_type": "execute_result"
    }
   ],
   "source": [
    "pwd()"
   ]
  },
  {
   "cell_type": "code",
   "execution_count": 3,
   "id": "0dc36783",
   "metadata": {},
   "outputs": [],
   "source": [
    "data1 = data(\"test1.txt\",\".txt\",2022, \"50kb\")"
   ]
  },
  {
   "cell_type": "code",
   "execution_count": 4,
   "id": "c05574ce",
   "metadata": {},
   "outputs": [
    {
     "data": {
      "text/plain": [
       "'test1.txt'"
      ]
     },
     "execution_count": 4,
     "metadata": {},
     "output_type": "execute_result"
    }
   ],
   "source": [
    "data1.fileName"
   ]
  },
  {
   "cell_type": "code",
   "execution_count": 5,
   "id": "ec63ac6e",
   "metadata": {},
   "outputs": [
    {
     "name": "stdout",
     "output_type": "stream",
     "text": [
      "ERROR !! ====> logged. Please check the logger file data.log \n"
     ]
    }
   ],
   "source": [
    "data1.file_read()"
   ]
  },
  {
   "cell_type": "code",
   "execution_count": 6,
   "id": "0bec52ba",
   "metadata": {},
   "outputs": [
    {
     "name": "stdout",
     "output_type": "stream",
     "text": [
      "Want to write to a file? If no, leave blank : hi there\n",
      "Want to write to a file? If no, leave blank : \n"
     ]
    }
   ],
   "source": [
    "data1.file_open()"
   ]
  },
  {
   "cell_type": "code",
   "execution_count": 7,
   "id": "e7ca75e3",
   "metadata": {},
   "outputs": [
    {
     "name": "stdout",
     "output_type": "stream",
     "text": [
      "hi there  \n"
     ]
    }
   ],
   "source": [
    "data1.file_read()"
   ]
  },
  {
   "cell_type": "code",
   "execution_count": 8,
   "id": "83231f1c",
   "metadata": {},
   "outputs": [],
   "source": [
    "data2 = data([\"test2.txt\", \"test3.txt\"], \".txt\", 2021, \"80kb\")"
   ]
  },
  {
   "cell_type": "code",
   "execution_count": 9,
   "id": "bac9ce69",
   "metadata": {},
   "outputs": [
    {
     "name": "stdout",
     "output_type": "stream",
     "text": [
      "ERROR !! ====> logged. Please check the logger file data.log \n",
      "ERROR !! ====> logged. Please check the logger file data.log \n"
     ]
    }
   ],
   "source": [
    "data2.file_read()"
   ]
  },
  {
   "cell_type": "code",
   "execution_count": 10,
   "id": "9c4bdd69",
   "metadata": {},
   "outputs": [
    {
     "name": "stdout",
     "output_type": "stream",
     "text": [
      "Want to write to a file? If no, leave blank : hi this is test2.txt\n",
      "Want to write to a file? If no, leave blank : \n",
      "Want to write to a file? If no, leave blank : hi this is test3.txt\n",
      "Want to write to a file? If no, leave blank : \n"
     ]
    }
   ],
   "source": [
    "data2.file_open()"
   ]
  },
  {
   "cell_type": "code",
   "execution_count": 11,
   "id": "3ccc2807",
   "metadata": {},
   "outputs": [
    {
     "name": "stdout",
     "output_type": "stream",
     "text": [
      "Want to write to a file? If no, leave blank : appending to test1.txt\n",
      "Want to write to a file? If no, leave blank : \n"
     ]
    }
   ],
   "source": [
    "data1.file_open()"
   ]
  },
  {
   "cell_type": "code",
   "execution_count": 12,
   "id": "983164c4",
   "metadata": {},
   "outputs": [
    {
     "name": "stdout",
     "output_type": "stream",
     "text": [
      "Want to write to a file? If no, leave blank : appending to test2.txt\n",
      "Want to write to a file? If no, leave blank : \n",
      "Want to write to a file? If no, leave blank : appending to test3.txt\n",
      "Want to write to a file? If no, leave blank : \n"
     ]
    }
   ],
   "source": [
    "data2.file_open()"
   ]
  },
  {
   "cell_type": "code",
   "execution_count": 14,
   "id": "7980fc84",
   "metadata": {},
   "outputs": [
    {
     "name": "stdout",
     "output_type": "stream",
     "text": [
      "hi this is test2.txt  appending to test2.txt  \n",
      "hi this is test3.txt  appending to test3.txt  \n"
     ]
    }
   ],
   "source": [
    "data2.file_read()"
   ]
  },
  {
   "cell_type": "code",
   "execution_count": 15,
   "id": "45da1a8e",
   "metadata": {},
   "outputs": [],
   "source": [
    "data3 = data(34,\".txt\", 2022, \"34kb\")"
   ]
  },
  {
   "cell_type": "code",
   "execution_count": 16,
   "id": "32ed62b6",
   "metadata": {},
   "outputs": [
    {
     "name": "stdout",
     "output_type": "stream",
     "text": [
      "File name is in incorrect format \n"
     ]
    }
   ],
   "source": [
    "data3.file_read()"
   ]
  },
  {
   "cell_type": "code",
   "execution_count": 17,
   "id": "886bd732",
   "metadata": {},
   "outputs": [
    {
     "name": "stdout",
     "output_type": "stream",
     "text": [
      "File name is in incorrect format check the format and re-enter \n"
     ]
    }
   ],
   "source": [
    "data3.file_open()"
   ]
  },
  {
   "cell_type": "code",
   "execution_count": null,
   "id": "aeee9eea",
   "metadata": {},
   "outputs": [],
   "source": []
  }
 ],
 "metadata": {
  "kernelspec": {
   "display_name": "Python 3 (ipykernel)",
   "language": "python",
   "name": "python3"
  },
  "language_info": {
   "codemirror_mode": {
    "name": "ipython",
    "version": 3
   },
   "file_extension": ".py",
   "mimetype": "text/x-python",
   "name": "python",
   "nbconvert_exporter": "python",
   "pygments_lexer": "ipython3",
   "version": "3.9.7"
  }
 },
 "nbformat": 4,
 "nbformat_minor": 5
}
