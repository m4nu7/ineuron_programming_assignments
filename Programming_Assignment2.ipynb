{
 "cells": [
  {
   "cell_type": "markdown",
   "id": "fa2bab10",
   "metadata": {},
   "source": [
    "# 1. Write a Python program to convert kilometers to miles?"
   ]
  },
  {
   "cell_type": "code",
   "execution_count": 4,
   "id": "22980ad2",
   "metadata": {
    "scrolled": true
   },
   "outputs": [
    {
     "name": "stdout",
     "output_type": "stream",
     "text": [
      "Enter kms value to convert to miles : man\n",
      "Please enter numeric value below \n",
      "Enter kms value to convert to miles : 34\n",
      "Miles conversion is :  21.126614\n"
     ]
    }
   ],
   "source": [
    "def kms_miles() :\n",
    "    try :\n",
    "        k = float(input(\"Enter kms value to convert to miles : \"))\n",
    "        m = k * 0.621371\n",
    "        print (\"Miles conversion is : \", m)\n",
    "    except :\n",
    "        print (\"Please enter numeric value below \")\n",
    "        kms_miles()\n",
    "kms_miles()"
   ]
  },
  {
   "cell_type": "markdown",
   "id": "25bb7a0e",
   "metadata": {},
   "source": [
    "# 2. Write a Python program to convert Celsius to Fahrenheit?"
   ]
  },
  {
   "cell_type": "code",
   "execution_count": 5,
   "id": "34faefdd",
   "metadata": {},
   "outputs": [
    {
     "name": "stdout",
     "output_type": "stream",
     "text": [
      "Enter celsius temperature to convert to fahrenheit : ff\n",
      "Please enter numeric value below \n",
      "Enter celsius temperature to convert to fahrenheit : 0\n",
      "Fahrenheit temperature is :  32.0\n"
     ]
    }
   ],
   "source": [
    "def cel_fah() :\n",
    "    try :\n",
    "        c = float(input(\"Enter celsius temperature to convert to fahrenheit : \"))\n",
    "        f = (c * 9/5) + 32\n",
    "        print (\"Fahrenheit temperature is : \", f)\n",
    "    except :\n",
    "        print (\"Please enter numeric value below \")\n",
    "        cel_fah()\n",
    "cel_fah()"
   ]
  },
  {
   "cell_type": "markdown",
   "id": "0c33d7f1",
   "metadata": {},
   "source": [
    "# 3. Write a Python program to display calendar?"
   ]
  },
  {
   "cell_type": "code",
   "execution_count": 5,
   "id": "f5d0723d",
   "metadata": {},
   "outputs": [
    {
     "name": "stdout",
     "output_type": "stream",
     "text": [
      "Enter year : -450\n",
      "Enter month : 6\n",
      "     June -450\n",
      "Mo Tu We Th Fr Sa Su\n",
      "          1  2  3  4\n",
      " 5  6  7  8  9 10 11\n",
      "12 13 14 15 16 17 18\n",
      "19 20 21 22 23 24 25\n",
      "26 27 28 29 30\n",
      "\n"
     ]
    }
   ],
   "source": [
    "import calendar\n",
    "\n",
    "def disp_cal() :\n",
    "    \n",
    "    y = 2014\n",
    "    m = 11\n",
    "    try :\n",
    "        y = int(input(\"Enter year : \"))\n",
    "        m = int(input(\"Enter month : \"))\n",
    "        print(calendar.month(y,m))\n",
    "\n",
    "    except :\n",
    "        print(\"Enter correct values for year and month \")\n",
    "        disp_cal()\n",
    "disp_cal()"
   ]
  },
  {
   "cell_type": "markdown",
   "id": "c9669f12",
   "metadata": {},
   "source": [
    "# 4. Write a Python program to solve quadratic equation?"
   ]
  },
  {
   "cell_type": "code",
   "execution_count": 6,
   "id": "d1ed3fd0",
   "metadata": {},
   "outputs": [
    {
     "name": "stdout",
     "output_type": "stream",
     "text": [
      "Enter the variable you want to solve for : x\n",
      "Enter the numerical co-efficient for 2nd degree variable : 1\n",
      "Enter the numerical co-efficient for 1st degree variable : 0\n",
      "Enter the constant : -81\n",
      "Solutions for x are 9.0, -9.0 \n"
     ]
    }
   ],
   "source": [
    "import math \n",
    "\n",
    "def quadeq_solve():\n",
    "    try :\n",
    "        var = input(\"Enter the variable you want to solve for : \")\n",
    "        a = float(input(\"Enter the numerical co-efficient for 2nd degree variable : \"))\n",
    "        b = float(input(\"Enter the numerical co-efficient for 1st degree variable : \"))\n",
    "        c = float(input(\"Enter the constant : \"))\n",
    "        \n",
    "        if a != 0 and b != 0 :\n",
    "            \n",
    "            var1 = (-b + math.sqrt(b*b - 4*a*c)) / (2*a)\n",
    "            var2 = (-b - math.sqrt(b*b - 4*a*c)) / (2*a)\n",
    "        else:\n",
    "            var1, var2 = math.sqrt(abs(c)), -1 *math.sqrt(abs(c))\n",
    "            \n",
    "        print(\"Solutions for {} are {}, {} \".format(var, var1, var2))\n",
    "    except :\n",
    "        print (\"Enter numerical values for co-efficients and constant\")\n",
    "        quadeq_solve()\n",
    "quadeq_solve()"
   ]
  },
  {
   "cell_type": "markdown",
   "id": "57d6cbc5",
   "metadata": {},
   "source": [
    "# 5. Write a Python program to swap two variables without temp variable?"
   ]
  },
  {
   "cell_type": "code",
   "execution_count": 11,
   "id": "dd265a97",
   "metadata": {},
   "outputs": [
    {
     "name": "stdout",
     "output_type": "stream",
     "text": [
      "Enter the firs variable x : 1\n",
      "Enter the firs variable y : 9\n",
      "x is now 9, y is now 1\n"
     ]
    }
   ],
   "source": [
    "def notemp_swap() :\n",
    "    x = input(\"Enter the firs variable x : \")\n",
    "    y = input(\"Enter the firs variable y : \")\n",
    "    x, y = y, x\n",
    "    print(\"x is now {}, y is now {}\".format(x,y))\n",
    "notemp_swap()"
   ]
  },
  {
   "cell_type": "code",
   "execution_count": null,
   "id": "a4e628e7",
   "metadata": {},
   "outputs": [],
   "source": []
  }
 ],
 "metadata": {
  "kernelspec": {
   "display_name": "Python 3 (ipykernel)",
   "language": "python",
   "name": "python3"
  },
  "language_info": {
   "codemirror_mode": {
    "name": "ipython",
    "version": 3
   },
   "file_extension": ".py",
   "mimetype": "text/x-python",
   "name": "python",
   "nbconvert_exporter": "python",
   "pygments_lexer": "ipython3",
   "version": "3.9.7"
  }
 },
 "nbformat": 4,
 "nbformat_minor": 5
}
