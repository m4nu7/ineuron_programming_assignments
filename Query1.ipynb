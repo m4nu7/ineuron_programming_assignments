{
 "cells": [
  {
   "cell_type": "markdown",
   "id": "76de82c1",
   "metadata": {},
   "source": [
    "# Problem Statement"
   ]
  },
  {
   "cell_type": "markdown",
   "id": "b6ce3a0b",
   "metadata": {},
   "source": [
    "Dataset : https://archive.ics.uci.edu/ml/datasets/bag+of+words\n",
    "    \n",
    "1. Try to find count of each of every word in the respective file. return : [(word1, count1), (word2,count2)....]\n",
    "2. Try to perform a reduce operation to get a count of all the words starting with same alphabet\n",
    "    sample ex : [(a, 56), (b, 67)...]\n",
    "3. Try to filter out all the words from the dataset\n",
    "    example : \n",
    "             .001.abstract --> abstract\n",
    "             =.002 = delete --> delete\n",
    "4. Create a tuple set of all the records available in all the 5 files and then store it in sqlite DB\n",
    "    example : (aah, >=, fdsf, wer, ttt)"
   ]
  },
  {
   "cell_type": "code",
   "execution_count": 3,
   "id": "553666fe",
   "metadata": {},
   "outputs": [],
   "source": [
    "class txtop :\n",
    "    # pass number of file and files\n",
    "    \n",
    "    \n",
    "    def __init__(self):\n",
    "        self.Variabledt = {}\n",
    "        #self.__nottxtFlag = 0\n",
    "        self.__flag = True\n",
    "        \n",
    "        while self.__flag:\n",
    "            self.__nottxtFlag = 0                                     # nottxt flag\n",
    "            try:\n",
    "                self.number_files = int(input(\"Enter the number of txt files : \"))\n",
    "                for i in range(1, self.number_files+1):\n",
    "                    self.Variabledt[\"file\" + str(i)] = input(f\"Enter No.{i} Filename/path with ext : \")\n",
    "                    self.istxt(self.Variabledt[\"file\" + str(i)])\n",
    "                    if self.__nottxtFlag == 1:\n",
    "                        print(\"if executing even when there is an exception !!!!!\")\n",
    "                        break\n",
    "                else :\n",
    "                    self.__flag = False\n",
    "                continue\n",
    "            except Exception as e :\n",
    "                print(str(e))\n",
    "                continue\n",
    "    \n",
    "    def istxt(self,file):\n",
    "        try:                                                       # try except redundant here\n",
    "            if not file.endswith(\".txt\"):\n",
    "                self.__nottxtFlag = 1\n",
    "                raise Exception(file, \" is not a .txt file. Please Enter input files again !\")\n",
    "            return 1\n",
    "        except Exception as e:\n",
    "            print(e)\n",
    "            \n",
    "            \n",
    "    def countWord(self) :\n",
    "        pass\n",
    "    \n",
    "    def StartingAlphaCount(self) :\n",
    "        pass\n",
    "    \n",
    "    def fiterWords(self):\n",
    "        pass\n",
    "    \n",
    "    def Zip_DBcreate_store(self):\n",
    "        pass\n",
    "    "
   ]
  },
  {
   "cell_type": "code",
   "execution_count": 4,
   "id": "46848fa1",
   "metadata": {},
   "outputs": [
    {
     "name": "stdout",
     "output_type": "stream",
     "text": [
      "Enter the number of txt files : wrong\n",
      "invalid literal for int() with base 10: 'wrong'\n",
      "Enter the number of txt files : 3\n",
      "Enter No.1 Filename/path with ext : test1.txt\n",
      "Enter No.2 Filename/path with ext : test2\n",
      "('test2', ' is not a .txt file. Please Enter input files again !')\n",
      "if executing even when there is an exception !!!!!\n",
      "Enter the number of txt files : 3\n",
      "Enter No.1 Filename/path with ext : test1.txt\n",
      "Enter No.2 Filename/path with ext : test2.txt\n",
      "Enter No.3 Filename/path with ext : test3.txt\n"
     ]
    }
   ],
   "source": [
    "a = txtop()"
   ]
  },
  {
   "cell_type": "code",
   "execution_count": 5,
   "id": "0eaa514e",
   "metadata": {},
   "outputs": [
    {
     "data": {
      "text/plain": [
       "{'file1': 'test1.txt', 'file2': 'test2.txt', 'file3': 'test3.txt'}"
      ]
     },
     "execution_count": 5,
     "metadata": {},
     "output_type": "execute_result"
    }
   ],
   "source": [
    "a.Variabledt"
   ]
  },
  {
   "cell_type": "code",
   "execution_count": null,
   "id": "c9cd6d3f",
   "metadata": {},
   "outputs": [],
   "source": []
  }
 ],
 "metadata": {
  "kernelspec": {
   "display_name": "Python 3 (ipykernel)",
   "language": "python",
   "name": "python3"
  },
  "language_info": {
   "codemirror_mode": {
    "name": "ipython",
    "version": 3
   },
   "file_extension": ".py",
   "mimetype": "text/x-python",
   "name": "python",
   "nbconvert_exporter": "python",
   "pygments_lexer": "ipython3",
   "version": "3.9.7"
  }
 },
 "nbformat": 4,
 "nbformat_minor": 5
}
